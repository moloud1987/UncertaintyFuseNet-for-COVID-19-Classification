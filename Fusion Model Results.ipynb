{
 "cells": [
  {
   "cell_type": "markdown",
   "metadata": {
    "id": "8jHhXKOHNLbW",
    "pycharm": {
     "name": "#%%\n"
    }
   },
   "source": [
    "# Covid Chest Project"
   ]
  },
  {
   "cell_type": "markdown",
   "metadata": {
    "pycharm": {
     "name": "#%% md\n"
    },
    "id": "6o5W2GAFyLq1"
   },
   "source": [
    "## Setup"
   ]
  },
  {
   "cell_type": "code",
   "execution_count": null,
   "metadata": {
    "id": "3--Z_VKgqJR4"
   },
   "outputs": [],
   "source": [
    "import numpy as np\n",
    "from utils import load_covid_data, create_dataset_xray\n",
    "from models import fusion_model\n",
    "from plots import plot_cm_handy, plot_roc_handy\n",
    "from evaluation import mode_robustness\n",
    "from sklearn.utils.class_weight import compute_class_weight\n",
    "from sklearn.metrics import accuracy_score, confusion_matrix,precision_score,recall_score,f1_score\n",
    "\n",
    "import warnings\n",
    "warnings.filterwarnings('ignore')"
   ]
  },
  {
   "cell_type": "markdown",
   "metadata": {
    "id": "YeZaGYcGRL8P",
    "pycharm": {
     "name": "#%% md\n"
    }
   },
   "source": [
    "## Dataset1 (X-Ray)"
   ]
  },
  {
   "cell_type": "code",
   "execution_count": null,
   "metadata": {
    "id": "3f-gGg9hwscj"
   },
   "outputs": [],
   "source": [
    "x_train, y_train = load_covid_data(path='Data/train', shuffle=True, class_frequency=True)\n",
    "x_test,y_test = load_covid_data(path='Data/test')\n",
    "\n",
    "class_weights = compute_class_weight('balanced',np.unique(np.argmax(y_train,axis=1)), np.argmax(y_train,axis=1))\n",
    "class_weights = {0:class_weights[0],\n",
    "                 1:class_weights[1],\n",
    "                 2:class_weights[2]}\n",
    "BATCH_SIZE=256\n",
    "train_dataset, validation_dataset = create_dataset_xray(x_train, y_train, x_test, y_test, BATCH_SIZE)"
   ]
  },
  {
   "cell_type": "markdown",
   "source": [
    "## Dataset2 (CT)"
   ],
   "metadata": {
    "id": "3Nxi0CdmeQjv"
   }
  },
  {
   "cell_type": "code",
   "source": [
    "X = np.load('CT_X.npy')\n",
    "Y = np.load('CT_Y.npy')"
   ],
   "metadata": {
    "id": "bB_olTEZeUJ4"
   },
   "execution_count": null,
   "outputs": []
  },
  {
   "cell_type": "code",
   "source": [
    "BATCH_SIZE=256\n",
    "train_dataset, validation_dataset, X_train, X_test, y_train, y_test = create_dataset_ct(X, Y, BATCH_SIZE)"
   ],
   "metadata": {
    "id": "Zy3M5-_DeVqA"
   },
   "execution_count": null,
   "outputs": []
  },
  {
   "cell_type": "markdown",
   "metadata": {
    "id": "GbVHdqnURj6j"
   },
   "source": [
    "## Fusion Model Without Monte-Carlo Dropout"
   ]
  },
  {
   "cell_type": "code",
   "execution_count": null,
   "metadata": {
    "id": "FDt1r6LPwshN"
   },
   "outputs": [],
   "source": [
    "model, callbacks = fusion_model(mc=True)"
   ]
  },
  {
   "cell_type": "code",
   "source": [
    "hist_mc = model.fit(train_dataset, epochs=200, validation_data=validation_dataset,\n",
    "                          class_weight=class_weights, callbacks=mc_callbacks)"
   ],
   "metadata": {
    "id": "FAUvwn7csyVX"
   },
   "execution_count": null,
   "outputs": []
  },
  {
   "cell_type": "markdown",
   "source": [
    "## Results"
   ],
   "metadata": {
    "id": "5OaWSe7Ee6Zx"
   }
  },
  {
   "cell_type": "markdown",
   "source": [
    "In case you want to load model:"
   ],
   "metadata": {
    "id": "3kl5BNFFfIG5"
   }
  },
  {
   "cell_type": "code",
   "source": [
    "from tensorflow.keras.models import load_model\n",
    "\n",
    "model = load_model('path/fusion_model_without_mc.h5')\n"
   ],
   "metadata": {
    "id": "UXTB2r9JfLXW"
   },
   "execution_count": null,
   "outputs": []
  },
  {
   "cell_type": "code",
   "source": [
    "\n",
    "preds = model.predict(x_test)\n",
    "acc = accuracy_score(np.argmax(y_test, axis=1), np.argmax(preds, axis=1))*100\n",
    "\n",
    "cm = confusion_matrix(np.argmax(y_test, axis=1)\n",
    ", np.argmax(preds, axis=1))\n",
    "cm = cm.astype('float') / cm.sum(axis=1)[:, np.newaxis]\n",
    "\n",
    "print('CONFUSION MATRIX ------------------')\n",
    "print(cm)\n",
    "\n",
    "print('\\nTEST METRICS ----------------------')\n",
    "\n",
    "precision = precision_score(np.argmax(y_test, axis=1),\n",
    "                            np.argmax(preds, axis=1), average='weighted')*100\n",
    "recall = recall_score(np.argmax(y_test, axis=1),\n",
    "                      np.argmax(preds, axis=1), average='weighted')*100\n",
    "\n",
    "print('Accuracy: {}%'.format(acc))\n",
    "print('Precision: {}%'.format(precision))\n",
    "print('Recall: {}%'.format(recall))\n",
    "print('F1-score: {}'.format( 2*precision*recall/(precision+recall) ))"
   ],
   "metadata": {
    "id": "PBleNY-je99u"
   },
   "execution_count": null,
   "outputs": []
  },
  {
   "cell_type": "code",
   "source": [
    "y_p = model.predict(x_test, batch_size=BATCH_SIZE)\n",
    "\n",
    "\n",
    "plot_roc_handy(y_test, y_p, zoom=True, lw=2, name='Roc of Fusion model without uncertainty',\n",
    "               class_name=['COVID19','Normal','Pneumonia'])\n",
    "\n",
    "plot_cm_handy(y_test, y_p,\n",
    "              lw=2, name='Confusion Matrix of Fusion model without uncertainty',\n",
    "              class_name=['COVID19','Normal','Pneumonia'])"
   ],
   "metadata": {
    "id": "_Wq-BKQzfcer"
   },
   "execution_count": null,
   "outputs": []
  },
  {
   "cell_type": "markdown",
   "source": [
    "### T-SNE"
   ],
   "metadata": {
    "id": "_znAZQUUfnMV"
   }
  },
  {
   "cell_type": "code",
   "source": [
    "from models import fusion_trunc_model\n",
    "model = load_model('path/fusion_model.h5')\n",
    "trunc_model = fusion_trunc_model(model, mc=False)\n",
    "hidden_features = trunc_model.predict(x_test)"
   ],
   "metadata": {
    "id": "B1gDNontfpJW"
   },
   "execution_count": null,
   "outputs": []
  },
  {
   "cell_type": "code",
   "source": [
    "from sklearn.decomposition import PCA\n",
    "from sklearn.manifold import TSNE\n",
    "\n",
    "pca = PCA(n_components=120)\n",
    "pca_result = pca.fit_transform(hidden_features)\n",
    "print('Variance PCA: {}'.format(np.sum(pca.explained_variance_ratio_)))\n",
    "\n",
    "tsne = TSNE(n_components=2, verbose = 1)\n",
    "tsne_results = tsne.fit_transform(pca_result)"
   ],
   "metadata": {
    "id": "oyntg2rDshCg"
   },
   "execution_count": null,
   "outputs": []
  },
  {
   "cell_type": "code",
   "source": [
    "import matplotlib.pyplot as plt\n",
    "import matplotlib \n",
    "matplotlib.rc('xtick', labelsize=20) \n",
    "matplotlib.rc('ytick', labelsize=20) \n",
    "\n",
    "plt.rcParams.update({'font.size': 25})\n",
    "%matplotlib inline\n",
    "Name='T-SNE Visualization of Fusion model without uncertainty'\n",
    "fig = plt.figure(figsize=[15, 15])\n",
    "color_map = np.argmax(y_test, axis=1)\n",
    "classes=['COVID19','Normal','Pneumonia']\n",
    "for cl in range(3):\n",
    "    indices = np.where(color_map==cl)\n",
    "    indices = indices[0]\n",
    "    plt.title(Name, fontsize=20)\n",
    "    plt.ylabel('Dim_2', fontsize=20)\n",
    "    plt.xlabel('Dim_1', fontsize=20)\n",
    "    matplotlib.rc('xtick', labelsize=20) \n",
    "    matplotlib.rc('ytick', labelsize=20) \n",
    "    plt.scatter(tsne_results[indices,0], tsne_results[indices, 1], label=classes[cl])\n",
    "\n",
    "plt.rcParams.update({'font.size': 20})\n",
    "\n",
    "plt.legend()\n",
    "plt.show()\n",
    "fig.savefig('{}.pdf'.format(Name),dpi=300)\n",
    "\n"
   ],
   "metadata": {
    "id": "VbIRwuywsiAO"
   },
   "execution_count": null,
   "outputs": []
  },
  {
   "cell_type": "markdown",
   "source": [
    "## Fusion Model With Monte-Carlo Dropout"
   ],
   "metadata": {
    "id": "tMkQyYiftOto"
   }
  },
  {
   "cell_type": "code",
   "source": [
    "mc_model, mc_callbacks=fusion_model(mc=True, lr=0.00001)"
   ],
   "metadata": {
    "id": "1KsaXrGVtQy_"
   },
   "execution_count": null,
   "outputs": []
  },
  {
   "cell_type": "code",
   "source": [
    "mc_hist = mc_model.fit(train_dataset, epochs=200, validation_data=validation_dataset,\n",
    "                          class_weight=class_weights, callbacks=mc_callbacks)"
   ],
   "metadata": {
    "id": "A4BK1MVktVUY"
   },
   "execution_count": null,
   "outputs": []
  },
  {
   "cell_type": "markdown",
   "source": [
    "## Results"
   ],
   "metadata": {
    "collapsed": false
   }
  },
  {
   "cell_type": "markdown",
   "source": [
    "In case you want to load model:"
   ],
   "metadata": {
    "collapsed": false
   }
  },
  {
   "cell_type": "code",
   "execution_count": null,
   "outputs": [],
   "source": [
    "from tensorflow.keras.models import load_model\n",
    "\n",
    "mc_model = load_model('path/fusion_model_with_mc.h5')\n"
   ],
   "metadata": {
    "collapsed": false,
    "pycharm": {
     "name": "#%%\n"
    }
   }
  },
  {
   "cell_type": "code",
   "execution_count": null,
   "outputs": [],
   "source": [
    "import tqdm\n",
    "\n",
    "number_prediction=200\n",
    "mc_predictions = []\n",
    "for i in tqdm.tqdm(range(number_prediction)):\n",
    "    y_p = mc_model.predict(x_test)\n",
    "    mc_predictions.append(y_p)\n",
    "\n",
    "accs=recalls=precisions=F1s=[]\n",
    "for y_p in mc_predictions:\n",
    "    acc = accuracy_score(y_test.argmax(axis=1), y_p.argmax(axis=1))\n",
    "    recall=recall_score(y_test.argmax(axis=1), y_p.argmax(axis=1),average='weighted')\n",
    "    precision=precision_score(y_test.argmax(axis=1), y_p.argmax(axis=1),average='weighted')\n",
    "    F1=(2*precision*recall)/(precision+recall)\n",
    "    accs.append(acc)\n",
    "    recalls.append(recall)\n",
    "    precisions.append(precision)\n",
    "    F1s.append(F1)\n",
    "\n",
    "\n",
    "print(\"MC accuracy: {:.5%}\".format(sum(accs)/len(accs)))\n",
    "print(\"MC precision: {:.5%}\".format(sum(precisions)/len(precisions)))\n",
    "print(\"MC recall: {:.5%}\".format(sum(recalls)/len(recalls)))\n",
    "print(\"MC F1: {:.5%}\".format(sum(F1s)/len(F1s)))\n",
    "\n",
    "mc_ensemble_pred = np.array(mc_predictions).mean(axis=0).argmax(axis=1)\n",
    "ensemble_acc = accuracy_score(y_test.argmax(axis=1), mc_ensemble_pred)\n",
    "ensemble_precision=precision_score(y_test.argmax(axis=1), mc_ensemble_pred, average='weighted')\n",
    "ensemble_recall=recall_score(y_test.argmax(axis=1), mc_ensemble_pred, average='weighted')\n",
    "ensemble_F1=(2*ensemble_precision*ensemble_recall)/(ensemble_precision+ensemble_recall)\n",
    "\n",
    "print(\"MC-ensemble accuracy: {:.5%}\".format(ensemble_acc))\n",
    "print(\"MC-ensemble precision: {:.5%}\".format(ensemble_precision))\n",
    "print(\"MC-ensemble recall: {:.5%}\".format(ensemble_recall))\n",
    "print(\"MC-ensemble F1: {:.5%}\".format(ensemble_F1))\n"
   ],
   "metadata": {
    "collapsed": false,
    "pycharm": {
     "name": "#%%\n"
    }
   }
  },
  {
   "cell_type": "code",
   "execution_count": null,
   "outputs": [],
   "source": [
    "Name = 'Histogram of ّFusion model with uncertainty'\n",
    "f, ax = plt.subplots(figsize=[10, 7])\n",
    "plt.hist(accs)\n",
    "plt.axvline(x=ensemble_acc, color=\"r\")\n",
    "ax.set_title(Name,fontsize=19)\n",
    "plt.show()\n",
    "f.savefig('{}.pdf'.format(Name))\n",
    "ax.figure.savefig(\"{}.pdf\".format(Name), bbox_inches='tight')"
   ],
   "metadata": {
    "collapsed": false,
    "pycharm": {
     "name": "#%%\n"
    }
   }
  },
  {
   "cell_type": "code",
   "execution_count": null,
   "outputs": [],
   "source": [
    "\n",
    "plot_roc_handy(y_test, mc_ensemble_pred, zoom=True, lw=2, name='Roc of Fusion model with uncertainty',\n",
    "               class_name=['COVID19','Normal','Pneumonia'])\n",
    "\n",
    "plot_cm_handy(y_test, mc_ensemble_pred,\n",
    "              lw=2, name='Confusion Matrix of Fusion model with uncertainty',\n",
    "              class_name=['COVID19','Normal','Pneumonia'])"
   ],
   "metadata": {
    "collapsed": false,
    "pycharm": {
     "name": "#%%\n"
    }
   }
  },
  {
   "cell_type": "markdown",
   "source": [
    "#### Noise Robustness"
   ],
   "metadata": {
    "collapsed": false
   }
  },
  {
   "cell_type": "code",
   "execution_count": null,
   "outputs": [],
   "source": [
    "std_coef=[1e-4,1e-3,1e-2,1e-1, 0.2,0.3,0.4,0.5,0.6]"
   ],
   "metadata": {
    "collapsed": false,
    "pycharm": {
     "name": "#%%\n"
    }
   }
  },
  {
   "cell_type": "code",
   "execution_count": null,
   "outputs": [],
   "source": [
    "mode_robustness(x_test, y_test, mc_model, std_coef)"
   ],
   "metadata": {
    "collapsed": false,
    "pycharm": {
     "name": "#%%\n"
    }
   }
  },
  {
   "cell_type": "markdown",
   "source": [
    "### T-SNE"
   ],
   "metadata": {
    "collapsed": false
   }
  },
  {
   "cell_type": "code",
   "execution_count": null,
   "outputs": [],
   "source": [
    "from models import fusion_trunc_model\n",
    "trunc_model = fusion_trunc_model(mc_model, mc=False)"
   ],
   "metadata": {
    "collapsed": false,
    "pycharm": {
     "name": "#%%\n"
    }
   }
  },
  {
   "cell_type": "code",
   "execution_count": null,
   "outputs": [],
   "source": [
    "hidden_features=[]\n",
    "for i in range(200):\n",
    "  hidden_features.append(trunc_model.predict(x_test))\n",
    "\n",
    "hidden_features=np.array(hidden_features).mean(axis=0)"
   ],
   "metadata": {
    "collapsed": false,
    "pycharm": {
     "name": "#%%\n"
    }
   }
  },
  {
   "cell_type": "code",
   "execution_count": null,
   "outputs": [],
   "source": [
    "from sklearn.decomposition import PCA\n",
    "from sklearn.manifold import TSNE\n",
    "\n",
    "pca = PCA(n_components=120)\n",
    "pca_result = pca.fit_transform(hidden_features)\n",
    "print('Variance PCA: {}'.format(np.sum(pca.explained_variance_ratio_)))\n",
    "\n",
    "tsne = TSNE(n_components=2, verbose = 1)\n",
    "tsne_results = tsne.fit_transform(pca_result)"
   ],
   "metadata": {
    "collapsed": false,
    "pycharm": {
     "name": "#%%\n"
    }
   }
  },
  {
   "cell_type": "code",
   "execution_count": null,
   "outputs": [],
   "source": [
    "import matplotlib.pyplot as plt\n",
    "import matplotlib\n",
    "matplotlib.rc('xtick', labelsize=20)\n",
    "matplotlib.rc('ytick', labelsize=20)\n",
    "\n",
    "plt.rcParams.update({'font.size': 25})\n",
    "%matplotlib inline\n",
    "Name='T-SNE Visualization of Fusion model without uncertainty'\n",
    "fig = plt.figure(figsize=[15, 15])\n",
    "color_map = np.argmax(y_test, axis=1)\n",
    "classes=['COVID19','Normal','Pneumonia']\n",
    "for cl in range(3):\n",
    "    indices = np.where(color_map==cl)\n",
    "    indices = indices[0]\n",
    "    plt.title(Name, fontsize=20)\n",
    "    plt.ylabel('Dim_2', fontsize=20)\n",
    "    plt.xlabel('Dim_1', fontsize=20)\n",
    "    matplotlib.rc('xtick', labelsize=20)\n",
    "    matplotlib.rc('ytick', labelsize=20)\n",
    "    plt.scatter(tsne_results[indices,0], tsne_results[indices, 1], label=classes[cl])\n",
    "\n",
    "plt.rcParams.update({'font.size': 20})\n",
    "\n",
    "plt.legend()\n",
    "plt.show()\n",
    "fig.savefig('{}.pdf'.format(Name),dpi=300)"
   ],
   "metadata": {
    "collapsed": false,
    "pycharm": {
     "name": "#%%\n"
    }
   }
  }
 ],
 "metadata": {
  "colab": {
   "provenance": []
  },
  "kernelspec": {
   "display_name": "Backyard",
   "language": "python",
   "name": "backyard"
  },
  "language_info": {
   "codemirror_mode": {
    "name": "ipython",
    "version": 3
   },
   "file_extension": ".py",
   "mimetype": "text/x-python",
   "name": "python",
   "nbconvert_exporter": "python",
   "pygments_lexer": "ipython3",
   "version": "3.6.13"
  }
 },
 "nbformat": 4,
 "nbformat_minor": 0
}