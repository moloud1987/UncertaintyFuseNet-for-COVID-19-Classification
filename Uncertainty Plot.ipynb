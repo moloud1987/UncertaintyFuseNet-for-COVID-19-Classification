{
 "cells": [
  {
   "cell_type": "markdown",
   "metadata": {
    "id": "aulGDw7oRE28"
   },
   "source": [
    "# Covid Project\n",
    "# Uncertainty Plot"
   ]
  },
  {
   "cell_type": "markdown",
   "metadata": {
    "id": "lHFn2m3kRLXj"
   },
   "source": [
    "## Imports"
   ]
  },
  {
   "cell_type": "code",
   "execution_count": null,
   "metadata": {
    "executionInfo": {
     "elapsed": 2237,
     "status": "ok",
     "timestamp": 1615122907156,
     "user": {
      "displayName": "Sina Qahremani",
      "photoUrl": "https://lh3.googleusercontent.com/a-/AOh14GhKpImYys1sQuY9zSkc3NW-sL3jIBU62aUGbslLoQ=s64",
      "userId": "15549406949129485910"
     },
     "user_tz": -210
    },
    "id": "8k-VAspORQAB"
   },
   "outputs": [],
   "source": [
    "%load_ext autoreload\n",
    "%autoreload 2\n",
    "import numpy as np\n",
    "from utils import load_covid_data, create_dataset_ct\n",
    "from plots import uncertainty_plot\n",
    "from tensorflow.keras.models import load_model"
   ]
  },
  {
   "cell_type": "markdown",
   "metadata": {
    "id": "vdcGQUT9Rg3q"
   },
   "source": [
    "## Dataset1 (X-Ray)"
   ]
  },
  {
   "cell_type": "code",
   "execution_count": null,
   "metadata": {
    "colab": {
     "base_uri": "https://localhost:8080/"
    },
    "executionInfo": {
     "elapsed": 36676,
     "status": "ok",
     "timestamp": 1613834270204,
     "user": {
      "displayName": "Sina Qahramani",
      "photoUrl": "https://lh3.googleusercontent.com/a-/AOh14GhxU3HQr7bqsOrjk8EX-dJumRRJJzjLFyYb_IGuiA=s64",
      "userId": "09975413313613087942"
     },
     "user_tz": -210
    },
    "id": "ozqgGQC9Rrj8",
    "outputId": "1c3b0490-8513-45b1-dfb8-6578c6b8d6b8"
   },
   "outputs": [],
   "source": [
    "x_test,y_test = load_covid_data(path='Data/test')"
   ]
  },
  {
   "cell_type": "markdown",
   "metadata": {
    "id": "qg1opzVga0UU"
   },
   "source": [
    "### Fusion"
   ]
  },
  {
   "cell_type": "code",
   "execution_count": null,
   "metadata": {
    "colab": {
     "base_uri": "https://localhost:8080/"
    },
    "executionInfo": {
     "elapsed": 14692,
     "status": "ok",
     "timestamp": 1613834344991,
     "user": {
      "displayName": "Sina Qahramani",
      "photoUrl": "https://lh3.googleusercontent.com/a-/AOh14GhxU3HQr7bqsOrjk8EX-dJumRRJJzjLFyYb_IGuiA=s64",
      "userId": "09975413313613087942"
     },
     "user_tz": -210
    },
    "id": "xAhT9AltazZt",
    "outputId": "3ad1e43e-cd9d-4ff9-97b0-60b40a90b36a"
   },
   "outputs": [],
   "source": [
    "model_F_mc = load_model('models/model_covid_mc.h5')"
   ]
  },
  {
   "cell_type": "code",
   "execution_count": null,
   "metadata": {
    "colab": {
     "base_uri": "https://localhost:8080/",
     "height": 494
    },
    "executionInfo": {
     "elapsed": 44595,
     "status": "ok",
     "timestamp": 1613848071019,
     "user": {
      "displayName": "Sina Qahramani",
      "photoUrl": "https://lh3.googleusercontent.com/a-/AOh14GhxU3HQr7bqsOrjk8EX-dJumRRJJzjLFyYb_IGuiA=s64",
      "userId": "09975413313613087942"
     },
     "user_tz": -210
    },
    "id": "eyx-EFLvjEpq",
    "outputId": "1bc36ede-feb3-42ca-8d26-1359ec6049ed"
   },
   "outputs": [],
   "source": [
    "name = 'Test'\n",
    "i=1\n",
    "uncertainty_plot(model_F_mc, x_test[i], y_test[i], save=True, name=name, mc_iter=1000, ylim=50)\n"
   ]
  },
  {
   "cell_type": "markdown",
   "metadata": {
    "id": "ozBmcTZS8p9b"
   },
   "source": [
    "## Dataset2 (CT)"
   ]
  },
  {
   "cell_type": "code",
   "execution_count": null,
   "metadata": {
    "id": "oqUixThx9huw"
   },
   "outputs": [],
   "source": [
    "X = np.load('CT_X.npy')\n",
    "Y = np.load('CT_Y.npy')"
   ]
  },
  {
   "cell_type": "code",
   "execution_count": null,
   "metadata": {
    "id": "JD0UHv1C9izs"
   },
   "outputs": [],
   "source": [
    "BATCH_SIZE=64\n",
    "_, _, _, x_test, _, y_test = create_dataset_ct(X, Y, BATCH_SIZE)"
   ]
  },
  {
   "cell_type": "markdown",
   "metadata": {
    "id": "9r66n4mj9He4"
   },
   "source": [
    "### Fusion"
   ]
  },
  {
   "cell_type": "code",
   "execution_count": null,
   "metadata": {
    "colab": {
     "base_uri": "https://localhost:8080/"
    },
    "executionInfo": {
     "elapsed": 10728,
     "status": "ok",
     "timestamp": 1613850752821,
     "user": {
      "displayName": "Sina Qahramani",
      "photoUrl": "https://lh3.googleusercontent.com/a-/AOh14GhxU3HQr7bqsOrjk8EX-dJumRRJJzjLFyYb_IGuiA=s64",
      "userId": "09975413313613087942"
     },
     "user_tz": -210
    },
    "id": "A9K55Y9h9vPJ",
    "outputId": "c2e003cc-056b-46a8-834e-4f40f04cea92"
   },
   "outputs": [],
   "source": [
    "model_F_mc_CT = load_model('models/model_covid_mc_CT.h5')"
   ]
  },
  {
   "cell_type": "code",
   "execution_count": null,
   "metadata": {
    "colab": {
     "base_uri": "https://localhost:8080/",
     "height": 1000
    },
    "executionInfo": {
     "elapsed": 1838161,
     "status": "ok",
     "timestamp": 1613868814326,
     "user": {
      "displayName": "Sina Qahramani",
      "photoUrl": "https://lh3.googleusercontent.com/a-/AOh14GhxU3HQr7bqsOrjk8EX-dJumRRJJzjLFyYb_IGuiA=s64",
      "userId": "09975413313613087942"
     },
     "user_tz": -210
    },
    "id": "LcwpRqr1_f61",
    "outputId": "c8665dd3-25c3-45ba-e560-79711bd8f496"
   },
   "outputs": [],
   "source": [
   "name = 'Test'\n",
   "i=1\n",
     "uncertainty_plot(model_F_mc_CT, x_test_CT[i], y_test_CT[i], save=True, name=name, mc_iter=1000, Dataset='CT', ylim=25)\n"
   ]
  }
 ],
 "metadata": {
   "accelerator": "GPU",
   "colab": {
   "collapsed_sections": [],
   "name": "Uncertainty_Plot.ipynb",
   "provenance": []
  },
  "kernelspec": {
   "display_name": "Python 3",
   "language": "python",
   "name": "python3"
  },
  "language_info": {
   "codemirror_mode": {
    "name": "ipython",
    "version": 3
  },
   "file_extension": ".py",
   "mimetype": "text/x-python",
   "name": "python",
   "nbconvert_exporter": "python",
   "pygments_lexer": "ipython3",
   "version": "3.8.5"
  }
 },
 "nbformat": 4,
 "nbformat_minor": 1
}
