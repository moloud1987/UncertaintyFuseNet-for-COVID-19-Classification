{
 "cells": [
  {
   "cell_type": "markdown",
   "metadata": {
    "id": "8jHhXKOHNLbW",
    "pycharm": {
     "name": "#%%\n"
    }
   },
   "source": [
    "# Covid Chest Project"
   ]
  },
  {
   "cell_type": "markdown",
   "metadata": {
    "pycharm": {
     "name": "#%% md\n"
    }
   },
   "source": [
    "## Setup"
   ]
  },
  {
   "cell_type": "code",
   "execution_count": 19,
   "metadata": {
    "id": "3--Z_VKgqJR4"
   },
   "outputs": [],
   "source": [
    "import numpy as np\n",
    "from utils import load_covid_data, create_dataset\n",
    "from models import fusion_model\n",
    "from plots import plot_cm_handy, plot_roc_handy\n",
    "from evaluation import mode_robustness, evaluation\n",
    "from sklearn.utils.class_weight import compute_class_weight\n",
    "from tensorflow.keras.models import load_model\n",
    "from sklearn.tree import DecisionTreeClassifier\n",
    "from sklearn.ensemble import RandomForestClassifier"
   ]
  },
  {
   "cell_type": "markdown",
   "metadata": {
    "id": "YeZaGYcGRL8P",
    "pycharm": {
     "name": "#%% md\n"
    }
   },
   "source": [
    "## Loading Data"
   ]
  },
  {
   "cell_type": "code",
   "execution_count": null,
   "metadata": {
    "id": "3f-gGg9hwscj"
   },
   "outputs": [],
   "source": [
    "image_size = 150\n",
    "x_train, y_train = load_covid_data(image_size, path='Data/train',shuffle=True, class_frequency=True)\n",
    "x_test,y_test = load_covid_data(image_size, path='Data/test')\n",
    "\n",
    "class_weights = compute_class_weight('balanced',np.unique(np.argmax(y_train,axis=1)), np.argmax(y_train,axis=1))\n",
    "class_weights={0:class_weights[0],\n",
    "               1:class_weights[1],\n",
    "               2:class_weights[2]}\n",
    "\n",
    "\n",
    "train_dataset,validation_dataset=create_dataset_xray(x_train, y_train, x_test, y_test,batch_size=128)"
   ]
  },
  {
   "cell_type": "markdown",
   "metadata": {
    "id": "GbVHdqnURj6j"
   },
   "source": [
    "## Defining Model"
   ]
  },
  {
   "cell_type": "code",
   "execution_count": null,
   "metadata": {
    "colab": {
     "base_uri": "https://localhost:8080/"
    },
    "id": "FDt1r6LPwshN",
    "outputId": "5db34153-a106-4f7c-e4ec-abe409859fa5"
   },
   "outputs": [],
   "source": [
    "mc_model, mc_callbacks = fusion_model(mc=True)\n",
    "simple_model, simple_callbacks = fusion_model(mc=False)"
   ]
  },
  {
   "cell_type": "markdown",
   "metadata": {
    "id": "86zJL5faRwf9",
    "pycharm": {
     "name": "#%% md\n"
    }
   },
   "source": [
    "## Training Model"
   ]
  },
  {
   "cell_type": "code",
   "execution_count": null,
   "metadata": {
    "id": "nBHioGitwslJ",
    "pycharm": {
     "name": "#%%\n"
    }
   },
   "outputs": [],
   "source": [
    "hist_mc = mc_model.fit(train_dataset, epochs=200, validation_data=validation_dataset,\n",
    "                          class_weight=class_weights, callbacks=mc_callbacks)"
   ]
  },
  {
   "cell_type": "markdown",
   "metadata": {
    "id": "itRa6FEYYT7U",
    "pycharm": {
     "name": "#%% md\n"
    }
   },
   "source": [
    "## Noise Addition & Robustness Quantification"
   ]
  },
  {
   "cell_type": "code",
   "execution_count": null,
   "metadata": {
    "id": "W0I01E4Dwsoo",
    "pycharm": {
     "name": "#%%\n"
    }
   },
   "outputs": [],
   "source": [
    "mc_model=load_model('Chest_Covid/model_covid_mc.h5')\n",
    "\n",
    "mean_coef=[1,1,1,1,1,1,1,1]\n",
    "std_coef=[1e-4,1e-3,1e-2,1e-1,0.2,0.3,0.4,0.5,0.6,0.7,0.8,0.9,1,1.1,\n",
    "          1.2,1.3,1.4,1.5,1.6,1.7,1.8,1.9,2]\n",
    "result=mode_robustness(x_test,y_test,mc_model,std_coef)\n",
    "print(result)"
   ]
  },
  {
   "cell_type": "markdown",
   "metadata": {
    "id": "_NmZBY6PfREg",
    "pycharm": {
     "name": "#%% md\n"
    }
   },
   "source": [
    "## Plot Roc"
   ]
  },
  {
   "cell_type": "code",
   "execution_count": null,
   "metadata": {
    "id": "__a85WNYDfQU",
    "pycharm": {
     "name": "#%%\n"
    }
   },
   "outputs": [],
   "source": [
    "y_p = mc_model.predict(x_test,batch_size=BATCH_SIZE)\n",
    "\n",
    "plot_roc_handy(y_test,y_pred ,zoom=True,lw=2,Name='ROC of Random Forest (X-Ray)',\n",
    "               calss_name=['COVID19','Normal','Pneumonia'])"
   ]
  },
  {
   "cell_type": "markdown",
   "metadata": {
    "id": "7bQQo_sQfZby",
    "pycharm": {
     "name": "#%% md\n"
    }
   },
   "source": [
    "## Plot Confusion Matrix"
   ]
  },
  {
   "cell_type": "code",
   "execution_count": null,
   "metadata": {
    "id": "9MyPNXddDf7l",
    "pycharm": {
     "name": "#%%\n"
    }
   },
   "outputs": [],
   "source": [
    "plot_cm_handy(y_test,y_pred,\n",
    "              lw=2,Name='Confusion Matrix of Decision Tree (X-Ray)',\n",
    "              classes=['COVID19','Normal','Pneumonia'])"
   ]
  },
  {
   "cell_type": "markdown",
   "metadata": {
    "id": "kt_JENrIfiVq",
    "pycharm": {
     "name": "#%% md\n"
    }
   },
   "source": [
    "## Statistical Methods"
   ]
  },
  {
   "cell_type": "code",
   "execution_count": null,
   "metadata": {
    "id": "MpBh2zQ4Dlym"
   },
   "outputs": [],
   "source": [
    "x_train_statistical=x_train.reshape(x_train.shape[0],x_train.shape[1]*x_train.shape[2]*x_train.shape[3])\n",
    "y_train_statistical=np.argmax(y_train,axis=1)\n",
    "x_test_statistical=x_test.reshape(x_test.shape[0],x_test.shape[1]*x_test.shape[2]*x_test.shape[3])\n",
    "y_test_statistical=np.argmax(y_test,axis=1)\n",
    "\n",
    "classifier1=DecisionTreeClassifier(max_depth=50,class_weight='balanced')\n",
    "param_grid_dt = {'max_depth':[50,100,150,200,300]}\n",
    "grid = GridSearchCV(DecisionTreeClassifier(class_weight='balanced',random_state=0) ,param_grid_dt,cv=3)\n",
    "classifier1.fit(x_train_statistical, y_train_statistical)\n",
    "print('Best params of dt is:',grid.get_params)\n",
    "classifier1=grid.best_estimator_\n",
    "y_pred_dt=classifier1.predict(x_test_statistical)\n",
    "acc,precision,recall,F1=evaluation(y_test_statistical,y_pred_dt)\n",
    "print('Dt test results are:',evaluation(y_test_statistical,y_pred_dt))\n",
    "print('Dt train results are:',evaluation(y_train_statistical,classifier1.predict(x_train_statistical)))"
   ]
  },
  {
   "cell_type": "code",
   "execution_count": null,
   "metadata": {
    "id": "58FlsByyD70e",
    "pycharm": {
     "name": "#%%\n"
    }
   },
   "outputs": [],
   "source": [
    "classifier2=RandomForestClassifier(max_depth=50,n_estimators=200,class_weight='balanced',random_state=0)\n",
    "classifier2.fit(x_train_statistical, y_train_statistical)\n",
    "\n",
    "y_pred_rf=classifier2.predict(x_test_statistical)\n",
    "acc,precision,recall,F1=evaluation(y_test_statistical,y_pred_rf)\n",
    "print('Rf test results are:',evaluation(y_test_statistical,y_pred_rf))\n",
    "print('Rf train results are:',evaluation(y_train_statistical,classifier1.predict(x_train_statistical)))\n",
    "\n"
   ]
  },
  {
   "cell_type": "code",
   "execution_count": null,
   "metadata": {
    "id": "uHiMIOFxDmA8"
   },
   "outputs": [],
   "source": [
    "from sklearn.metrics import plot_roc_curve, roc_curve, auc\n",
    "from scikitplot.metrics import plot_confusion_matrix,plot_roc\n",
    "from scipy import interp\n",
    "from itertools import cycle\n",
    "\n",
    "plot_roc_handy(y_test, y_p,lw=2,Name='Roc of fusion model without uncertainty (X-Ray)',\n",
    "               calss_name=['COVID19','Normal','Pneumonia'])"
   ]
  },
  {
   "cell_type": "markdown",
   "metadata": {
    "id": "OcHNN9yewuEa",
    "pycharm": {
     "name": "#%% md\n"
    }
   },
   "source": [
    "## Ensemble MCD"
   ]
  }
 ],
 "metadata": {
  "colab": {
   "collapsed_sections": [],
   "name": "Covid_19_classification.ipynb",
   "provenance": []
  },
  "kernelspec": {
   "display_name": "Backyard",
   "language": "python",
   "name": "backyard"
  },
  "language_info": {
   "codemirror_mode": {
    "name": "ipython",
    "version": 3
   },
   "file_extension": ".py",
   "mimetype": "text/x-python",
   "name": "python",
   "nbconvert_exporter": "python",
   "pygments_lexer": "ipython3",
   "version": "3.6.13"
  }
 },
 "nbformat": 4,
 "nbformat_minor": 1
}