{
 "cells": [
  {
   "cell_type": "markdown",
   "metadata": {
    "id": "ztxzSKXoPD_s"
   },
   "source": [
    "# Covid Project\n",
    "# Grad Cam\n"
   ]
  },
  {
   "cell_type": "markdown",
   "metadata": {
    "id": "NcCA4mvbPD_t"
   },
   "source": [
    "## Imports"
   ]
  },
  {
   "cell_type": "code",
   "execution_count": null,
   "metadata": {},
   "outputs": [],
   "source": [
    "%load_ext autoreload\n",
    "%autoreload 2\n",
    "import numpy as np\n",
    "from utils import load_covid_data, create_dataset_ct\n",
    "from grad_plot import GradCAM, plot_GradCam\n",
    "from tensorflow.keras.models import load_model"
   ]
  },
  {
   "cell_type": "markdown",
   "metadata": {
    "id": "wd19wXJ816Cq"
   },
   "source": [
    "## Dataset1 (X-Ray)"
   ]
  },
  {
   "cell_type": "code",
   "execution_count": null,
   "metadata": {
    "colab": {
     "base_uri": "https://localhost:8080/"
    },
    "executionInfo": {
     "elapsed": 16053,
     "status": "ok",
     "timestamp": 1613498608591,
     "user": {
      "displayName": "Sina Qahremani",
      "photoUrl": "https://lh3.googleusercontent.com/a-/AOh14Gh-ZisuRC_RaGfXurPEq8lcklkHXJNZRrfk3xd4=s64",
      "userId": "15549406949129485910"
     },
     "user_tz": -210
    },
    "id": "Cg2wgS2R3dpv",
    "outputId": "a731a4c4-b538-4e83-bdb8-fd170ecb4bef",
    "scrolled": true
   },
   "outputs": [],
   "source": [
    "x_test,y_test = load_covid_data(path='Data/test')"
   ]
  },
  {
   "cell_type": "markdown",
   "metadata": {},
   "source": [
    "## Dataset2 (CT)"
   ]
  },
  {
   "cell_type": "code",
   "execution_count": null,
   "metadata": {},
   "outputs": [],
   "source": [
    "X = np.load('CT_X.npy')\n",
    "Y = np.load('CT_Y.npy')"
   ]
  },
  {
   "cell_type": "code",
   "execution_count": null,
   "metadata": {},
   "outputs": [],
   "source": [
    "BATCH_SIZE=64\n",
    "_, _, _, x_test, _, y_test = create_dataset_ct(X, Y, BATCH_SIZE)"
   ]
  },
  {
   "cell_type": "markdown",
   "metadata": {
    "id": "9U1fWjlO2Ono"
   },
   "source": [
    "## Model: Fusion (Without MC)"
   ]
  },
  {
   "cell_type": "code",
   "execution_count": null,
   "metadata": {
    "colab": {
     "base_uri": "https://localhost:8080/"
    },
    "executionInfo": {
     "elapsed": 4515,
     "status": "ok",
     "timestamp": 1613504909685,
     "user": {
      "displayName": "Sina Qahremani",
      "photoUrl": "https://lh3.googleusercontent.com/a-/AOh14Gh-ZisuRC_RaGfXurPEq8lcklkHXJNZRrfk3xd4=s64",
      "userId": "15549406949129485910"
     },
     "user_tz": -210
    },
    "id": "vvckUvLr2Nuf",
    "outputId": "0ca61db4-4ed6-4ad6-87a7-6fd4142d7994"
   },
   "outputs": [],
   "source": [
    "model_F = load_model('models/model_covid_simple.h5')"
   ]
  },
  {
   "cell_type": "code",
   "execution_count": null,
   "metadata": {
    "colab": {
     "base_uri": "https://localhost:8080/",
     "height": 1000,
     "output_embedded_package_id": "1lYIdFR9zRJkPb__WbPYSis-H_kk4oxOO"
    },
    "executionInfo": {
     "elapsed": 41396,
     "status": "ok",
     "timestamp": 1613511935512,
     "user": {
      "displayName": "Sina Qahremani",
      "photoUrl": "https://lh3.googleusercontent.com/a-/AOh14Gh-ZisuRC_RaGfXurPEq8lcklkHXJNZRrfk3xd4=s64",
      "userId": "15549406949129485910"
     },
     "user_tz": -210
    },
    "id": "AOaYObQZPDYg",
    "outputId": "28825e8f-f7fe-4f83-d242-7f5a8314338f"
   },
   "outputs": [],
   "source": [
    "cam_F = GradCAM(model_F, \"dropout_20\")\n",
    "name = 'Test'\n",
    "i = 1\n",
    "plot_GradCam(cam_F, model_F, x_test[i], np.argmax(y_test[i]), name, uncertainty=False, Dataset='Xray')\n"
   ]
  },
  {
   "cell_type": "markdown",
   "metadata": {
    "id": "odhKjpHGcRF_"
   },
   "source": [
    "## Model: Fusion (With MC)"
   ]
  },
  {
   "cell_type": "code",
   "execution_count": null,
   "metadata": {
    "colab": {
     "base_uri": "https://localhost:8080/"
    },
    "executionInfo": {
     "elapsed": 3621,
     "status": "ok",
     "timestamp": 1613506109887,
     "user": {
      "displayName": "Sina Qahremani",
      "photoUrl": "https://lh3.googleusercontent.com/a-/AOh14Gh-ZisuRC_RaGfXurPEq8lcklkHXJNZRrfk3xd4=s64",
      "userId": "15549406949129485910"
     },
     "user_tz": -210
    },
    "id": "O7vJ0dTTcWOy",
    "outputId": "5c5c7fd1-88ea-497d-ec8e-07509701a9c7"
   },
   "outputs": [],
   "source": [
    "model_F_mc=load_model('models/model_covid_mc.h5')"
   ]
  },
  {
   "cell_type": "code",
   "execution_count": null,
   "metadata": {
    "colab": {
     "base_uri": "https://localhost:8080/",
     "height": 1000,
     "output_embedded_package_id": "1GGMJmjeenOqHrk4mIOfwx7d4tNwYO-mc"
    },
    "executionInfo": {
     "elapsed": 2597756,
     "status": "ok",
     "timestamp": 1613515900790,
     "user": {
      "displayName": "Sina Qahremani",
      "photoUrl": "https://lh3.googleusercontent.com/a-/AOh14Gh-ZisuRC_RaGfXurPEq8lcklkHXJNZRrfk3xd4=s64",
      "userId": "15549406949129485910"
     },
     "user_tz": -210
    },
    "id": "q0GITPGJcY37",
    "outputId": "14af934f-1f34-4b7f-a626-a915b21187b9"
   },
   "outputs": [],
   "source": [
    "cam_F_mc = GradCAM(model_F_mc, \"dropout_61\")\n",
    "name = 'Test'\n",
    "i = 1\n",
    "plot_GradCam(cam_F_mc, model_F_mc, x_test[i], np.argmax(y_test[i]), name, uncertainty=True, Dataset='Xray')\n"
   ]
  }
 ],
 "metadata": {
  "accelerator": "GPU",
  "colab": {
   "collapsed_sections": [],
   "name": "Xray_grad_cam.ipynb",
   "provenance": []
  },
  "kernelspec": {
   "display_name": "Python 3",
   "language": "python",
   "name": "python3"
  },
  "language_info": {
   "codemirror_mode": {
    "name": "ipython",
    "version": 3
   },
   "file_extension": ".py",
   "mimetype": "text/x-python",
   "name": "python",
   "nbconvert_exporter": "python",
   "pygments_lexer": "ipython3",
   "version": "3.8.5"
  }
 },
 "nbformat": 4,
 "nbformat_minor": 1
}
